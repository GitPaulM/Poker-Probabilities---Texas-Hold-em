{
 "cells": [
  {
   "cell_type": "code",
   "execution_count": 1,
   "id": "b059bdfa",
   "metadata": {
    "scrolled": true
   },
   "outputs": [],
   "source": [
    "\n",
    "# The purpose of this notebook is to look thru all 7 and 5 card combinations from a standard\n",
    "# 52 card deck to find the best 5 card poker hand, identify the hand by type (e.g. Full \n",
    "# House), and calculate a score for hand comparisons.  This is a very, very time intensive\n",
    "# program which can take several hours to complete.  However, it is one way to test the\n",
    "# accuracy of the underlying hand calculations.  Upon completion, totals can be compared\n",
    "# to the wikipedia site for hand categorization accuracy.\n",
    "\n",
    "#https://en.wikipedia.org/wiki/Poker_probability"
   ]
  },
  {
   "cell_type": "code",
   "execution_count": 2,
   "id": "a920f552",
   "metadata": {
    "scrolled": true
   },
   "outputs": [],
   "source": [
    "from operator import itemgetter\n",
    "import random\n",
    "import datetime\n",
    "import itertools\n",
    "import sys\n",
    "import numpy as np\n",
    "from random import shuffle\n",
    "from poker import * "
   ]
  },
  {
   "cell_type": "code",
   "execution_count": 3,
   "id": "72ecffd2",
   "metadata": {
    "scrolled": true
   },
   "outputs": [
    {
     "name": "stdout",
     "output_type": "stream",
     "text": [
      "Time calculations begin: 2023-10-27 12:43:10.823710\n"
     ]
    }
   ],
   "source": [
    "time0 = datetime.datetime.now()\n",
    "print(\"Time calculations begin:\", time0)"
   ]
  },
  {
   "cell_type": "code",
   "execution_count": 4,
   "id": "d4488dcb",
   "metadata": {
    "scrolled": true
   },
   "outputs": [
    {
     "name": "stdout",
     "output_type": "stream",
     "text": [
      "Total 5 card combinations:  2,598,960\n"
     ]
    }
   ],
   "source": [
    "#Using itertools, create a list of all possible combinations and loop/calculate\n",
    "\n",
    "Five_card = [x for x in itertools.combinations(range(52,0,-1), 5)]\n",
    "ranksum = [0,0,0,0,0,0,0,0,0,0,0]\n",
    "print(\"Total 5 card combinations: \", '{:,}'.format(len(Five_card)))\n",
    "for x in Five_card:\n",
    "    x = list(x)\n",
    "    BestTest = hand_ranking(x)\n",
    "    ranksum[BestTest.hand_rank] = ranksum[BestTest.hand_rank] + 1\n",
    "Total = sum([x for x in ranksum ])"
   ]
  },
  {
   "cell_type": "code",
   "execution_count": 5,
   "id": "36bffa14",
   "metadata": {
    "scrolled": true
   },
   "outputs": [
    {
     "name": "stdout",
     "output_type": "stream",
     "text": [
      "\n",
      "5 card hand category counts:\n",
      "\n",
      "Royal Flush:               4\n",
      "Straight Flush:           36\n",
      "4 of a kind:             624\n",
      "Full House:            3,744\n",
      "Flush:                 5,108\n",
      "Straight:             10,200\n",
      "3 of a kind:          54,912\n",
      "Two Pairs:           123,552\n",
      "One Pair:          1,098,240\n",
      "No Pair:           1,302,540\n",
      "Not found:                 0\n",
      "Total:             2,598,960\n"
     ]
    }
   ],
   "source": [
    "Categories = ['Not found','No Pair','One Pair','Two Pairs','3 of a kind',\n",
    "              'Straight','Flush','Full House','4 of a kind','Straight Flush','Royal Flush']\n",
    "Summary = list(zip(reversed(Categories),reversed(ranksum)))\n",
    "print(\"\\n5 card hand category counts:\\n\")\n",
    "for i,j in Summary:\n",
    "    print(f'{i}:'.ljust(15),'{:,}'.format(j).rjust(12))\n",
    "print(f'Total: '.ljust(15),'{:,}'.format(Total).rjust(12))"
   ]
  },
  {
   "cell_type": "code",
   "execution_count": 6,
   "id": "100b46c1",
   "metadata": {
    "scrolled": true
   },
   "outputs": [
    {
     "name": "stdout",
     "output_type": "stream",
     "text": [
      "Post 5 card calculation time 2023-10-27 12:46:26.602838\n",
      "Total elapsed time: 0 hours, 3 minutes, 15 seconds\n"
     ]
    }
   ],
   "source": [
    "time1 = datetime.datetime.now()\n",
    "print(\"Post 5 card calculation time\", time1)\n",
    "elapsed = time1 - time0\n",
    "hours, remainder = divmod(elapsed.total_seconds(), 3600)\n",
    "minutes, seconds = divmod(remainder, 60)\n",
    "print(\"Total elapsed time: {} hours, {} minutes, {} seconds\".format(int(hours), int(minutes), int(seconds)))"
   ]
  },
  {
   "cell_type": "code",
   "execution_count": 7,
   "id": "d2341c11",
   "metadata": {
    "scrolled": true
   },
   "outputs": [
    {
     "name": "stdout",
     "output_type": "stream",
     "text": [
      "\n",
      "Total 7 card combinations:  133,784,560\n",
      "\n",
      "        Processed    Timestamp\n",
      "                0    2023-10-27 12:47:01.652916\n",
      "       10,000,000    2023-10-27 13:00:53.636188\n",
      "       20,000,000    2023-10-27 13:12:36.594551\n",
      "       30,000,000    2023-10-27 13:23:26.232975\n",
      "       40,000,000    2023-10-27 13:34:04.443016\n",
      "       50,000,000    2023-10-27 13:44:43.786456\n",
      "       60,000,000    2023-10-27 13:57:15.819945\n",
      "       70,000,000    2023-10-27 14:07:52.181282\n",
      "       80,000,000    2023-10-27 14:18:29.767406\n",
      "       90,000,000    2023-10-27 14:29:04.909533\n",
      "      100,000,000    2023-10-27 14:39:40.742762\n",
      "      110,000,000    2023-10-27 14:50:18.268856\n",
      "      120,000,000    2023-10-27 15:00:47.580300\n",
      "      130,000,000    2023-10-27 15:11:09.122806\n"
     ]
    }
   ],
   "source": [
    "Seven_card = [x for x in itertools.combinations(range(52,0,-1), 7)]\n",
    "Processed = 0\n",
    "ranksum = [0,0,0,0,0,0,0,0,0,0,0]\n",
    "print(\"\\nTotal 7 card combinations: \", '{:,}'.format(len(Seven_card))+\"\\n\")\n",
    "print(\"Processed\".rjust(17),\"   Timestamp\")\n",
    "for x in Seven_card:\n",
    "    x = list(x)\n",
    "    BestTest = hand_ranking(x)\n",
    "    ranksum[BestTest.hand_rank] = ranksum[BestTest.hand_rank] + 1\n",
    "# Given the length of the program, provide a periodic update\n",
    "    if Processed%10000000== 0:\n",
    "        print('{:,}'.format(Processed).rjust(17),\"  \",datetime.datetime.now())\n",
    "    Processed = Processed + 1\n",
    "Total = sum([x for x in ranksum ])"
   ]
  },
  {
   "cell_type": "code",
   "execution_count": 8,
   "id": "0be17fc7",
   "metadata": {
    "scrolled": true
   },
   "outputs": [
    {
     "name": "stdout",
     "output_type": "stream",
     "text": [
      "7 card hand category counts:\n",
      "\n",
      "Royal Flush:           4,324\n",
      "Straight Flush:       37,260\n",
      "4 of a kind:         224,848\n",
      "Full House:        3,473,184\n",
      "Flush:             4,047,644\n",
      "Straight:          6,180,020\n",
      "3 of a kind:       6,461,620\n",
      "Two Pairs:        31,433,400\n",
      "One Pair:         58,627,800\n",
      "No Pair:          23,294,460\n",
      "Not found:                 0\n",
      "Total:           133,784,560\n"
     ]
    }
   ],
   "source": [
    "Summary = list(zip(reversed(Categories),reversed(ranksum)))\n",
    "print(\"7 card hand category counts:\\n\")\n",
    "for i,j in Summary:\n",
    "    print(f'{i}:'.ljust(15),'{:,}'.format(j).rjust(12))\n",
    "print(f'Total: '.ljust(15),'{:,}'.format(Total).rjust(12))"
   ]
  },
  {
   "cell_type": "code",
   "execution_count": 9,
   "id": "d66c7ce9",
   "metadata": {
    "scrolled": true
   },
   "outputs": [
    {
     "name": "stdout",
     "output_type": "stream",
     "text": [
      "Post 7 card calculation time 2023-10-27 15:14:47.958149\n",
      "Total elapsed time: 2 hours, 31 minutes, 37 seconds\n"
     ]
    }
   ],
   "source": [
    "time2 = datetime.datetime.now()\n",
    "print(\"Post 7 card calculation time\", time2)\n",
    "elapsed = time2 - time0\n",
    "hours, remainder = divmod(elapsed.total_seconds(), 3600)\n",
    "minutes, seconds = divmod(remainder, 60)\n",
    "print(\"Total elapsed time: {} hours, {} minutes, {} seconds\".format(int(hours), int(minutes), int(seconds)))"
   ]
  },
  {
   "cell_type": "code",
   "execution_count": 10,
   "id": "eb10ecfa",
   "metadata": {
    "scrolled": true
   },
   "outputs": [
    {
     "name": "stdout",
     "output_type": "stream",
     "text": [
      "Python version:\n",
      "3.9.7 (default, Sep 16 2021, 08:50:36) \n",
      "[Clang 10.0.0 ]\n"
     ]
    }
   ],
   "source": [
    "print(\"Python version:\")\n",
    "print(sys.version)"
   ]
  }
 ],
 "metadata": {
  "kernelspec": {
   "display_name": "Python 3 (ipykernel)",
   "language": "python",
   "name": "python3"
  },
  "language_info": {
   "codemirror_mode": {
    "name": "ipython",
    "version": 3
   },
   "file_extension": ".py",
   "mimetype": "text/x-python",
   "name": "python",
   "nbconvert_exporter": "python",
   "pygments_lexer": "ipython3",
   "version": "3.9.7"
  }
 },
 "nbformat": 4,
 "nbformat_minor": 5
}
