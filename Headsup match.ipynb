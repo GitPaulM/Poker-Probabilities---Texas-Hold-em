{
 "cells": [
  {
   "cell_type": "code",
   "execution_count": 19,
   "metadata": {},
   "outputs": [],
   "source": [
    "# This notebook\n",
    "\n",
    "\n",
    "#Need to replace above\n"
   ]
  },
  {
   "cell_type": "code",
   "execution_count": 20,
   "metadata": {},
   "outputs": [],
   "source": [
    "from operator import itemgetter\n",
    "import random\n",
    "import datetime\n",
    "import itertools\n",
    "import sys\n",
    "import numpy as np\n",
    "from random import shuffle\n",
    "from poker import *"
   ]
  },
  {
   "cell_type": "code",
   "execution_count": 21,
   "metadata": {},
   "outputs": [
    {
     "name": "stdout",
     "output_type": "stream",
     "text": [
      " 1 Two of Diamonds          27 Two of Hearts           \n",
      " 2 Three of Diamonds        28 Three of Hearts         \n",
      " 3 Four of Diamonds         29 Four of Hearts          \n",
      " 4 Five of Diamonds         30 Five of Hearts          \n",
      " 5 Six of Diamonds          31 Six of Hearts           \n",
      " 6 Seven of Diamonds        32 Seven of Hearts         \n",
      " 7 Eight of Diamonds        33 Eight of Hearts         \n",
      " 8 Nine of Diamonds         34 Nine of Hearts          \n",
      " 9 Ten of Diamonds          35 Ten of Hearts           \n",
      "10 Jack of Diamonds         36 Jack of Hearts          \n",
      "11 Queen of Diamonds        37 Queen of Hearts         \n",
      "12 King of Diamonds         38 King of Hearts          \n",
      "13 Ace of Diamonds          39 Ace of Hearts           \n",
      "\n",
      "\n",
      "14 Two of Clubs             40 Two of Spades           \n",
      "15 Three of Clubs           41 Three of Spades         \n",
      "16 Four of Clubs            42 Four of Spades          \n",
      "17 Five of Clubs            43 Five of Spades          \n",
      "18 Six of Clubs             44 Six of Spades           \n",
      "19 Seven of Clubs           45 Seven of Spades         \n",
      "20 Eight of Clubs           46 Eight of Spades         \n",
      "21 Nine of Clubs            47 Nine of Spades          \n",
      "22 Ten of Clubs             48 Ten of Spades           \n",
      "23 Jack of Clubs            49 Jack of Spades          \n",
      "24 Queen of Clubs           50 Queen of Spades         \n",
      "25 King of Clubs            51 King of Spades          \n",
      "26 Ace of Clubs             52 Ace of Spades           \n",
      "\n",
      "\n"
     ]
    }
   ],
   "source": [
    "# MAIN program\n",
    "\n",
    "# The Card Set and card attributes are primarily for display and ease. Each card can be\n",
    "# assigned a number from 1 to 52.\n",
    "\n",
    "CurrentDeck = Card_Set()\n",
    "Player1 = Card_Set()\n",
    "Player2 = Card_Set()\n",
    "\n",
    "CurrentDeck.create_standard_deck()\n",
    "CurrentDeck.display()"
   ]
  },
  {
   "cell_type": "code",
   "execution_count": 22,
   "metadata": {},
   "outputs": [],
   "source": [
    "# Example of 2 players playing Texas Hold-em.   Each players get two cards and plays\n",
    "# the 5 community cards (board).  "
   ]
  },
  {
   "cell_type": "code",
   "execution_count": 23,
   "metadata": {},
   "outputs": [],
   "source": [
    "Play1 = [14,51]\n",
    "Play2 = [9,48]\n",
    "Board = [28,30,52,42,22]"
   ]
  },
  {
   "cell_type": "code",
   "execution_count": 24,
   "metadata": {},
   "outputs": [
    {
     "name": "stdout",
     "output_type": "stream",
     "text": [
      "\n",
      "Player 1 cards:\n",
      "\n",
      "Card number: 14 Card Rank: 2 Two of Clubs\n",
      "Card number: 51 Card Rank: 13 King of Spades\n",
      "Card number: 28 Card Rank: 3 Three of Hearts\n",
      "Card number: 30 Card Rank: 5 Five of Hearts\n",
      "Card number: 52 Card Rank: 14 Ace of Spades\n",
      "Card number: 42 Card Rank: 4 Four of Spades\n",
      "Card number: 22 Card Rank: 10 Ten of Clubs\n",
      "\n",
      "Card Total: 7\n",
      "\n",
      "Player 2 cards:\n",
      "\n",
      "Card number: 9 Card Rank: 10 Ten of Diamonds\n",
      "Card number: 48 Card Rank: 10 Ten of Spades\n",
      "Card number: 28 Card Rank: 3 Three of Hearts\n",
      "Card number: 30 Card Rank: 5 Five of Hearts\n",
      "Card number: 52 Card Rank: 14 Ace of Spades\n",
      "Card number: 42 Card Rank: 4 Four of Spades\n",
      "Card number: 22 Card Rank: 10 Ten of Clubs\n",
      "\n",
      "Card Total: 7\n"
     ]
    }
   ],
   "source": [
    "Player1.Cards = [CurrentDeck.Cards[z-1] for z in Play1+Board]\n",
    "Player2.Cards = [CurrentDeck.Cards[z-1] for z in Play2+Board]\n",
    "Player1.fan_cards(\"Player 1 cards:\")\n",
    "Player2.fan_cards(\"Player 2 cards:\")"
   ]
  },
  {
   "cell_type": "code",
   "execution_count": 25,
   "metadata": {},
   "outputs": [],
   "source": [
    "# The poker library has a routine that provides a score for the hand\n",
    "# which can be used to determine the best hand."
   ]
  },
  {
   "cell_type": "code",
   "execution_count": 26,
   "metadata": {},
   "outputs": [
    {
     "name": "stdout",
     "output_type": "stream",
     "text": [
      "Player 1: \n",
      "\n",
      "Found Flag:  True\n",
      "Description:  Straight: Ace thru Five\n",
      "Best Hand:  [52, 30, 42, 28, 14]\n",
      "Hand Rank:  5\n",
      "Hand Score:  2892793\n",
      "Note:  Ace-Low\n",
      "\n",
      "\n",
      "Player 2: \n",
      "\n",
      "Found Flag:  True\n",
      "Description:  3 of a kind: Tens with Ace and Five\n",
      "Best Hand:  [48, 22, 9, 52, 30]\n",
      "Hand Rank:  4\n",
      "Hand Score:  2565057\n",
      "Note:  \n",
      "\n",
      "\n"
     ]
    }
   ],
   "source": [
    "p1 = hand_ranking(Play1+Board)\n",
    "p2 = hand_ranking(Play2+Board)\n",
    "print(\"Player 1: \\n\")\n",
    "p1.show()\n",
    "print(\"Player 2: \\n\")\n",
    "p2.show()"
   ]
  },
  {
   "cell_type": "code",
   "execution_count": 27,
   "metadata": {},
   "outputs": [],
   "source": [
    "# Determine the win probability for the given hands over all possible boards. First the\n",
    "# player's cards need to be removed from the deck."
   ]
  },
  {
   "cell_type": "code",
   "execution_count": 28,
   "metadata": {},
   "outputs": [
    {
     "name": "stdout",
     "output_type": "stream",
     "text": [
      "[1, 2, 3, 4, 5, 6, 7, 8, 9, 10, 11, 12, 13, 14, 15, 16, 17, 18, 19, 20, 21, 22, 23, 24, 25, 26, 27, 28, 29, 30, 31, 32, 33, 34, 35, 36, 37, 38, 39, 40, 41, 42, 43, 44, 45, 46, 47, 48, 49, 50, 51, 52]\n"
     ]
    }
   ],
   "source": [
    "Decklist = list(range(1,53))\n",
    "print(Decklist)"
   ]
  },
  {
   "cell_type": "code",
   "execution_count": 29,
   "metadata": {
    "scrolled": true
   },
   "outputs": [
    {
     "data": {
      "text/plain": [
       "48"
      ]
     },
     "execution_count": 29,
     "metadata": {},
     "output_type": "execute_result"
    }
   ],
   "source": [
    "Decklist = [x for x in list(range(1,53)) if x not in Play1+Play2]\n",
    "len(Decklist)"
   ]
  },
  {
   "cell_type": "code",
   "execution_count": 30,
   "metadata": {},
   "outputs": [],
   "source": [
    "# Determine all possible boards from the remaining deck of 48 cards (52 - 2 - 2)"
   ]
  },
  {
   "cell_type": "code",
   "execution_count": 31,
   "metadata": {},
   "outputs": [],
   "source": [
    "Boards = [x for x in itertools.combinations(Decklist, 5)]"
   ]
  },
  {
   "cell_type": "code",
   "execution_count": 32,
   "metadata": {},
   "outputs": [
    {
     "data": {
      "text/plain": [
       "1712304"
      ]
     },
     "execution_count": 32,
     "metadata": {},
     "output_type": "execute_result"
    }
   ],
   "source": [
    "len(Boards)"
   ]
  },
  {
   "cell_type": "code",
   "execution_count": 33,
   "metadata": {},
   "outputs": [],
   "source": [
    "# Loop thru all of the board combinations and aggregate player 1's,\n",
    "# wins, losses and ties, and the associated probabilities."
   ]
  },
  {
   "cell_type": "code",
   "execution_count": 34,
   "metadata": {},
   "outputs": [
    {
     "name": "stdout",
     "output_type": "stream",
     "text": [
      "Time calculations begin: 2023-10-27 19:10:43.401270\n",
      "Compared total:          0 2023-10-27 19:10:43.402524\n",
      "Compared total:     150000 2023-10-27 19:11:05.887402\n",
      "Compared total:     300000 2023-10-27 19:11:27.804533\n",
      "Compared total:     450000 2023-10-27 19:12:05.101511\n",
      "Compared total:     600000 2023-10-27 19:12:25.303144\n",
      "Compared total:     750000 2023-10-27 19:12:44.240797\n",
      "Compared total:     900000 2023-10-27 19:13:03.185649\n",
      "Compared total:    1050000 2023-10-27 19:13:22.090020\n",
      "Compared total:    1200000 2023-10-27 19:13:40.962291\n",
      "Compared total:    1350000 2023-10-27 19:13:59.655944\n",
      "Compared total:    1500000 2023-10-27 19:14:34.183277\n",
      "Compared total:    1650000 2023-10-27 19:15:00.205492\n",
      "\n",
      "Total compared: 1712304\n",
      "Time calculations end: 2023-10-27 19:15:07.615112\n",
      "Total elapsed time: 0 hours, 4 minutes, 24 seconds\n"
     ]
    }
   ],
   "source": [
    "w = t = l = 0\n",
    "time0 = datetime.datetime.now()\n",
    "print(\"Time calculations begin:\", time0)\n",
    "a = 0\n",
    "for i in Boards:\n",
    "    Board = list(i)\n",
    "    p1 = hand_ranking(Play1+Board)\n",
    "    p2 =hand_ranking(Play2+Board)\n",
    "    if p1.score > p2.score:\n",
    "        w = w+1\n",
    "    elif p1.score < p2.score:\n",
    "        l = l+1\n",
    "    else:\n",
    "        t = t+1\n",
    "    if ((a % 150000) == 0):\n",
    "            print(\"Compared total: \" + str(a).rjust(10),datetime.datetime.now())\n",
    "    a = a+1\n",
    "Totals = w+l+t\n",
    "print(\"\\nTotal compared:\", Totals)\n",
    "time1 = datetime.datetime.now()\n",
    "print(\"Time calculations end:\", time1)\n",
    "elapsed = time1 - time0\n",
    "hours, remainder = divmod(elapsed.total_seconds(), 3600)\n",
    "minutes, seconds = divmod(remainder, 60)\n",
    "print(\"Total elapsed time: {} hours, {} minutes, {} seconds\".format(int(hours), int(minutes), int(seconds)))                  \n",
    "    "
   ]
  },
  {
   "cell_type": "code",
   "execution_count": 35,
   "metadata": {},
   "outputs": [
    {
     "name": "stdout",
     "output_type": "stream",
     "text": [
      "Compared total: 1712304\n",
      "\n",
      "          Count      Probability    \n",
      "Wins      466193     27.226064997804126       \n",
      "Losses    1238028    72.30188097440642        \n",
      "Ties      8083       0.47205402778945793      \n"
     ]
    }
   ],
   "source": [
    "#  Print the final results\n",
    "print('Compared total: ' + str(Totals)+\"\\n\") \n",
    "print(\"          Count\".ljust(20),\"Probability\".ljust(15))\n",
    "print('Wins'.ljust(10) + str(w).ljust(10),str(w*100.0000/Totals).ljust(25))\n",
    "print('Losses'.ljust(10) + str(l).ljust(10),str(l*100.0000/Totals).ljust(25))\n",
    "print('Ties'.ljust(10) + str(t).ljust(10),str(t*100.0000/Totals).ljust(25))"
   ]
  },
  {
   "cell_type": "code",
   "execution_count": 36,
   "metadata": {},
   "outputs": [],
   "source": [
    "# Source to verify: https://www.cardplayer.com/poker-tools/odds-calculator/texas-holdem\n",
    "# Very time intensive to create a loop that determines the probability for a given hand,\n",
    "# but the library can support it."
   ]
  },
  {
   "cell_type": "code",
   "execution_count": 37,
   "metadata": {},
   "outputs": [
    {
     "name": "stdout",
     "output_type": "stream",
     "text": [
      "Python version:\n",
      "3.9.7 (default, Sep 16 2021, 08:50:36) \n",
      "[Clang 10.0.0 ]\n"
     ]
    }
   ],
   "source": [
    "print(\"Python version:\")\n",
    "print(sys.version)"
   ]
  }
 ],
 "metadata": {
  "kernelspec": {
   "display_name": "Python 3 (ipykernel)",
   "language": "python",
   "name": "python3"
  },
  "language_info": {
   "codemirror_mode": {
    "name": "ipython",
    "version": 3
   },
   "file_extension": ".py",
   "mimetype": "text/x-python",
   "name": "python",
   "nbconvert_exporter": "python",
   "pygments_lexer": "ipython3",
   "version": "3.9.7"
  }
 },
 "nbformat": 4,
 "nbformat_minor": 2
}
