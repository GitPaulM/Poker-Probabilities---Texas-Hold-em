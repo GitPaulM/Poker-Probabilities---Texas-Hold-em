{
 "cells": [
  {
   "cell_type": "code",
   "execution_count": 1,
   "id": "42accf5e",
   "metadata": {},
   "outputs": [],
   "source": [
    "# The purpose of this notebook to provide some insight into the framework\n",
    "# inside the poker library and to ultimately provide some unit testing \n",
    "# to help ensure the code is working as designed."
   ]
  },
  {
   "cell_type": "code",
   "execution_count": 2,
   "id": "aa98b99e",
   "metadata": {},
   "outputs": [],
   "source": [
    "from operator import itemgetter\n",
    "import random\n",
    "import datetime\n",
    "import itertools\n",
    "import sys\n",
    "import numpy as np\n",
    "from random import shuffle\n",
    "from poker import *"
   ]
  },
  {
   "cell_type": "code",
   "execution_count": 3,
   "id": "b3a81409",
   "metadata": {},
   "outputs": [
    {
     "name": "stdout",
     "output_type": "stream",
     "text": [
      " 1 Two of Diamonds          27 Two of Hearts           \n",
      " 2 Three of Diamonds        28 Three of Hearts         \n",
      " 3 Four of Diamonds         29 Four of Hearts          \n",
      " 4 Five of Diamonds         30 Five of Hearts          \n",
      " 5 Six of Diamonds          31 Six of Hearts           \n",
      " 6 Seven of Diamonds        32 Seven of Hearts         \n",
      " 7 Eight of Diamonds        33 Eight of Hearts         \n",
      " 8 Nine of Diamonds         34 Nine of Hearts          \n",
      " 9 Ten of Diamonds          35 Ten of Hearts           \n",
      "10 Jack of Diamonds         36 Jack of Hearts          \n",
      "11 Queen of Diamonds        37 Queen of Hearts         \n",
      "12 King of Diamonds         38 King of Hearts          \n",
      "13 Ace of Diamonds          39 Ace of Hearts           \n",
      "\n",
      "\n",
      "14 Two of Clubs             40 Two of Spades           \n",
      "15 Three of Clubs           41 Three of Spades         \n",
      "16 Four of Clubs            42 Four of Spades          \n",
      "17 Five of Clubs            43 Five of Spades          \n",
      "18 Six of Clubs             44 Six of Spades           \n",
      "19 Seven of Clubs           45 Seven of Spades         \n",
      "20 Eight of Clubs           46 Eight of Spades         \n",
      "21 Nine of Clubs            47 Nine of Spades          \n",
      "22 Ten of Clubs             48 Ten of Spades           \n",
      "23 Jack of Clubs            49 Jack of Spades          \n",
      "24 Queen of Clubs           50 Queen of Spades         \n",
      "25 King of Clubs            51 King of Spades          \n",
      "26 Ace of Clubs             52 Ace of Spades           \n",
      "\n",
      "\n"
     ]
    }
   ],
   "source": [
    "# The Card_Set object, includes a collection of card objects as well as some\n",
    "# methods, including display.  A deck of cards contains 52 card objects held\n",
    "# in a Cards array indexed from 0 to 51. Below \n",
    "\n",
    "OneDeck = Card_Set()\n",
    "OneDeck.create_standard_deck()\n",
    "OneDeck.display()"
   ]
  },
  {
   "cell_type": "code",
   "execution_count": 4,
   "id": "26dcbf17",
   "metadata": {},
   "outputs": [
    {
     "name": "stdout",
     "output_type": "stream",
     "text": [
      "Card number: 1 Card Rank: 2 Two of Diamonds\n",
      "Card number: 51 Card Rank: 13 King of Spades\n",
      "Card number: 52 Card Rank: 14 Ace of Spades\n"
     ]
    }
   ],
   "source": [
    "# a Card object contains multiple attributes of the card (Rank, Suit, Description), as well\n",
    "# as some methods.  Let's look at a few cards faceup:\n",
    "OneDeck.Cards[0].faceup() \n",
    "OneDeck.Cards[50].faceup() \n",
    "OneDeck.Cards[51].faceup()"
   ]
  },
  {
   "cell_type": "code",
   "execution_count": 5,
   "id": "ae19fbb8",
   "metadata": {},
   "outputs": [],
   "source": [
    "# To determine a the best 5 card hand , a series of poker hand functions were created. \n",
    "# A list of (5-7) integers  from 1 to 52 is passed to each of the  functions and the return\n",
    "# is the best 5 cards, along with a hand ranking, a hand score(for comparison) and \n",
    "# a hand description.  "
   ]
  },
  {
   "cell_type": "code",
   "execution_count": 6,
   "id": "5389b524",
   "metadata": {},
   "outputs": [
    {
     "name": "stdout",
     "output_type": "stream",
     "text": [
      "\n",
      "Player1 Test Cards:\n",
      "\n",
      "Card number: 52 Card Rank: 14 Ace of Spades\n",
      "Card number: 39 Card Rank: 14 Ace of Hearts\n",
      "Card number: 26 Card Rank: 14 Ace of Clubs\n",
      "Card number: 50 Card Rank: 12 Queen of Spades\n",
      "Card number: 37 Card Rank: 12 Queen of Hearts\n",
      "Card number: 7 Card Rank: 8 Eight of Diamonds\n",
      "Card number: 11 Card Rank: 12 Queen of Diamonds\n",
      "\n",
      "Card Total: 7\n",
      "\n",
      "Best 5 card hand:\n",
      "\n",
      "Found Flag:  True\n",
      "Description:  Full House: Aces over Queens\n",
      "Best Hand:  [52, 39, 26, 50, 37]\n",
      "Hand Rank:  7\n",
      "Hand Score:  4343932\n",
      "Note:  Two 3 of a kind\n",
      "\n",
      "\n"
     ]
    }
   ],
   "source": [
    "#Toy Example\n",
    "Player1=Card_Set()\n",
    "Test_list = [52,39,26,50,37,7,11]\n",
    "Player1.Cards = [OneDeck.Cards[z-1] for z in Test_list]\n",
    "Player1.fan_cards(\"Player1 Test Cards:\")\n",
    "print(\"\\nBest 5 card hand:\\n\")\n",
    "y=full_house(Test_list)\n",
    "y.show()"
   ]
  },
  {
   "cell_type": "code",
   "execution_count": 7,
   "id": "9d11f1ed",
   "metadata": {},
   "outputs": [],
   "source": [
    "# FYI: The hand functions were set up standalone, and DO NOT assume that the \n",
    "# cards were evaluated for higher ranks.   So for example if we put\n",
    "# the cards above into a 3 of a kind function, we get the a nonsensical result (below).\n",
    "# Thus caution needs to be exercised when passing a list to the hand function directly."
   ]
  },
  {
   "cell_type": "code",
   "execution_count": 8,
   "id": "fd61c2b8",
   "metadata": {},
   "outputs": [
    {
     "name": "stdout",
     "output_type": "stream",
     "text": [
      "Found Flag:  True\n",
      "Description:  3 of a kind: Aces with Queen and Queen\n",
      "Best Hand:  [52, 39, 26, 50, 37]\n",
      "Hand Rank:  4\n",
      "Hand Score:  2730460\n",
      "Note:  \n",
      "\n",
      "\n"
     ]
    }
   ],
   "source": [
    "y=three_of_a_kind([52,39,26,50,37,7,11])\n",
    "y.show()"
   ]
  },
  {
   "cell_type": "code",
   "execution_count": 9,
   "id": "39ec0671",
   "metadata": {},
   "outputs": [],
   "source": [
    "# The hand_ranking function was created to waterfall a card list thru \n",
    "# the different card functions, in order to find the optimal card ranking. This \n",
    "# avoids the issue highlighted in the previous example. Like the specific hand functions,\n",
    "# the input is a list of integers and the output is the best hand object.  \n",
    "#The first toy example is the hand above."
   ]
  },
  {
   "cell_type": "code",
   "execution_count": 10,
   "id": "6dc7bd76",
   "metadata": {},
   "outputs": [
    {
     "name": "stdout",
     "output_type": "stream",
     "text": [
      "Found Flag:  True\n",
      "Description:  Full House: Aces over Queens\n",
      "Best Hand:  [52, 39, 26, 50, 37]\n",
      "Hand Rank:  7\n",
      "Hand Score:  4343932\n",
      "Note:  Two 3 of a kind\n",
      "\n",
      "\n"
     ]
    }
   ],
   "source": [
    "y=hand_ranking([52,39,26,50,37,7,11])\n",
    "y.show()"
   ]
  },
  {
   "cell_type": "code",
   "execution_count": 11,
   "id": "a20fb53f",
   "metadata": {},
   "outputs": [
    {
     "name": "stdout",
     "output_type": "stream",
     "text": [
      "Found Flag:  True\n",
      "Description:  Heart Straight Flush: King Thru Nine\n",
      "Best Hand:  [38, 37, 36, 35, 34]\n",
      "Hand Rank:  9\n",
      "Hand Score:  5375057\n",
      "Note:  \n",
      "\n",
      "\n"
     ]
    }
   ],
   "source": [
    "y = hand_ranking([38,37,36,35,34,32])\n",
    "y.show()"
   ]
  },
  {
   "cell_type": "code",
   "execution_count": 12,
   "id": "c69513bf",
   "metadata": {},
   "outputs": [
    {
     "name": "stdout",
     "output_type": "stream",
     "text": [
      "Found Flag:  True\n",
      "Description:  Diamond Flush : Ace, Eight, Seven, Four, Three\n",
      "Best Hand:  [13, 7, 6, 3, 2]\n",
      "Hand Rank:  6\n",
      "Hand Score:  3788151\n",
      "Note:  \n",
      "\n",
      "\n"
     ]
    }
   ],
   "source": [
    "y = hand_ranking([13,2,3,6,7])\n",
    "y.show()"
   ]
  },
  {
   "cell_type": "code",
   "execution_count": 13,
   "id": "1026dba3",
   "metadata": {},
   "outputs": [
    {
     "name": "stdout",
     "output_type": "stream",
     "text": [
      "\n",
      "Toy example 1:\n",
      "\n",
      "Card number: 39 Card Rank: 14 Ace of Hearts\n",
      "Card number: 35 Card Rank: 10 Ten of Hearts\n",
      "Card number: 2 Card Rank: 3 Three of Diamonds\n",
      "Card number: 4 Card Rank: 5 Five of Diamonds\n",
      "Card number: 20 Card Rank: 8 Eight of Clubs\n",
      "Card number: 29 Card Rank: 4 Four of Hearts\n",
      "Card number: 37 Card Rank: 12 Queen of Hearts\n",
      "\n",
      "Card Total: 7\n",
      "\n",
      "Best 5 card hand:\n",
      "\n",
      "Found Flag:  True\n",
      "Description:  No Pair: Ace, Queen, Ten, Eight, Five\n",
      "Best Hand:  [39, 37, 35, 20, 4]\n",
      "Hand Rank:  1\n",
      "Hand Score:  1110653\n",
      "Note:  \n",
      "\n",
      "\n",
      "\n",
      "Toy example 2:\n",
      "\n",
      "Card number: 2 Card Rank: 3 Three of Diamonds\n",
      "Card number: 41 Card Rank: 3 Three of Spades\n",
      "Card number: 30 Card Rank: 5 Five of Hearts\n",
      "Card number: 42 Card Rank: 4 Four of Spades\n",
      "Card number: 14 Card Rank: 2 Two of Clubs\n",
      "\n",
      "Card Total: 5\n",
      "\n",
      "Best 5 card hand:\n",
      "\n",
      "Found Flag:  True\n",
      "Description:  1 pair: Threes with Five and Four and Two\n",
      "Best Hand:  [41, 2, 30, 42, 14]\n",
      "Hand Rank:  2\n",
      "Hand Score:  1200166\n",
      "Note:  \n",
      "\n",
      "\n",
      "\n",
      "Toy example 3:\n",
      "\n",
      "Card number: 6 Card Rank: 7 Seven of Diamonds\n",
      "Card number: 31 Card Rank: 6 Six of Hearts\n",
      "Card number: 50 Card Rank: 12 Queen of Spades\n",
      "Card number: 38 Card Rank: 13 King of Hearts\n",
      "Card number: 13 Card Rank: 14 Ace of Diamonds\n",
      "Card number: 40 Card Rank: 2 Two of Spades\n",
      "Card number: 1 Card Rank: 2 Two of Diamonds\n",
      "\n",
      "Card Total: 7\n",
      "\n",
      "Best 5 card hand:\n",
      "\n",
      "Found Flag:  True\n",
      "Description:  1 pair: Twos with Ace and King and Queen\n",
      "Best Hand:  [40, 1, 13, 38, 50]\n",
      "Hand Rank:  2\n",
      "Hand Score:  1160906\n",
      "Note:  \n",
      "\n",
      "\n"
     ]
    }
   ],
   "source": [
    "# 3 more toy examples, along with some card object calls. \n",
    "\n",
    "Test_list = [39,35,2,4,20,29,37]\n",
    "Player1.Cards = [OneDeck.Cards[z-1] for z in Test_list]\n",
    "Player1.fan_cards(\"Toy example 1:\")\n",
    "print(\"\\nBest 5 card hand:\\n\")\n",
    "y=hand_ranking(Test_list)\n",
    "y.show()\n",
    "\n",
    "Test_list = [2,41,30,42,14]\n",
    "Player1.Cards = [OneDeck.Cards[z-1] for z in Test_list]\n",
    "Player1.fan_cards(\"Toy example 2:\")\n",
    "print(\"\\nBest 5 card hand:\\n\")\n",
    "y = hand_ranking(Test_list)\n",
    "y.show()\n",
    "\n",
    "Test_list = [6,31,50,38,13,40,1]\n",
    "Player1.Cards = [OneDeck.Cards[z-1] for z in Test_list]\n",
    "Player1.fan_cards(\"Toy example 3:\")\n",
    "print(\"\\nBest 5 card hand:\\n\")\n",
    "y = hand_ranking(Test_list)\n",
    "y.show()"
   ]
  },
  {
   "cell_type": "code",
   "execution_count": 14,
   "id": "c259f051",
   "metadata": {},
   "outputs": [],
   "source": [
    "# The Best-5 hand score is directly related to hand strength\"  Below is an example\n",
    "# of two players with hands that tie in strength."
   ]
  },
  {
   "cell_type": "code",
   "execution_count": 15,
   "id": "ce2eba5d",
   "metadata": {},
   "outputs": [
    {
     "name": "stdout",
     "output_type": "stream",
     "text": [
      "\n",
      "Player 1:\n",
      "\n",
      "Card number: 52 Card Rank: 14 Ace of Spades\n",
      "Card number: 38 Card Rank: 13 King of Hearts\n",
      "Card number: 50 Card Rank: 12 Queen of Spades\n",
      "Card number: 36 Card Rank: 11 Jack of Hearts\n",
      "Card number: 48 Card Rank: 10 Ten of Spades\n",
      "Card number: 47 Card Rank: 9 Nine of Spades\n",
      "Card number: 7 Card Rank: 8 Eight of Diamonds\n",
      "\n",
      "Card Total: 7\n",
      "\n",
      "Best 5 card hand:\n",
      "\n",
      "Found Flag:  True\n",
      "Description:  Straight: Ace thru Ten\n",
      "Best Hand:  [52, 38, 50, 36, 48]\n",
      "Hand Rank:  5\n",
      "Hand Score:  3265132\n",
      "Note:  \n",
      "\n",
      "\n",
      "\n",
      "Player 2:\n",
      "\n",
      "Card number: 23 Card Rank: 11 Jack of Clubs\n",
      "Card number: 25 Card Rank: 13 King of Clubs\n",
      "Card number: 13 Card Rank: 14 Ace of Diamonds\n",
      "Card number: 11 Card Rank: 12 Queen of Diamonds\n",
      "Card number: 22 Card Rank: 10 Ten of Clubs\n",
      "Card number: 5 Card Rank: 6 Six of Diamonds\n",
      "Card number: 45 Card Rank: 7 Seven of Spades\n",
      "\n",
      "Card Total: 7\n",
      "\n",
      "Best 5 card hand:\n",
      "\n",
      "Found Flag:  True\n",
      "Description:  Straight: Ace thru Ten\n",
      "Best Hand:  [13, 25, 11, 23, 22]\n",
      "Hand Rank:  5\n",
      "Hand Score:  3265132\n",
      "Note:  \n",
      "\n",
      "\n",
      "Player 1 :  3265132 \n",
      "Player 2 :  3265132\n"
     ]
    }
   ],
   "source": [
    "Test_list = [52,38,50,36,48,47,7]\n",
    "Player1.Cards = [OneDeck.Cards[z-1] for z in Test_list]\n",
    "Player1.fan_cards(\"Player 1:\")\n",
    "print(\"\\nBest 5 card hand:\\n\")\n",
    "y = hand_ranking(Test_list)\n",
    "y.show()\n",
    "Score1 = y.score\n",
    "\n",
    "Test_list = [23,25,13,11,22,5,45]\n",
    "Player1.Cards = [OneDeck.Cards[z-1] for z in Test_list]\n",
    "Player1.fan_cards(\"Player 2:\")\n",
    "print(\"\\nBest 5 card hand:\\n\")\n",
    "y = hand_ranking(Test_list)\n",
    "y.show()\n",
    "Score2 = y.score\n",
    "print(\"Player 1 : \",Score1,\"\\nPlayer 2 : \",Score2)"
   ]
  },
  {
   "cell_type": "code",
   "execution_count": 16,
   "id": "12d2d4c5",
   "metadata": {},
   "outputs": [
    {
     "data": {
      "text/plain": [
       "'Royal Flush'"
      ]
     },
     "execution_count": 16,
     "metadata": {},
     "output_type": "execute_result"
    }
   ],
   "source": [
    "# Each hand is also assigned a numeric hand rank from 1 to 10.   The hand ranking \n",
    "# values increase with the strength of the hand. \n",
    "\n",
    "Categories = ['Not found','No Pair','One Pair','Two Pairs','3 of a kind',\n",
    "              'Straight','Flush','Full House','4 of a kind','Straight Flush','Royal Flush']\n",
    "Categories[10]"
   ]
  },
  {
   "cell_type": "code",
   "execution_count": 17,
   "id": "950fb53d",
   "metadata": {},
   "outputs": [],
   "source": [
    "# The Test hands below were created to do some unit testing for the program.  In particular,\n",
    "# the test units are chosen to provide some insight as to the reliability of the scoring.\n",
    "# For each of the hand categories, starting with the Royal Flush, down to No Pair, there\n",
    "# are 3 test units.   The first should have the highest hand for the category, the\n",
    "# third should have the lowest and the one in the middle is something in between.\n",
    "# The expected results should should generally show decreasing scores, except for the \n",
    "# Royal Flush exceptions.  Note that the scores are ordinal rankings.\n",
    "\n",
    "Test_Units = [\n",
    "[52,50,51,48,47,46,49],[35,36,37,38,39,40],[26,25,13,12,11,9,10],\n",
    "[50,51,48,47,46,49,3],[32,31,29,30,28,51,59],[13,1,2,3,22,23,4],\n",
    "[52,39,13,26,51,12,38],[5,18,31,44,1,33,32],[2,15,28,1,14,27,40],\n",
    "[52,51,39,38,5,26,22],[1,14,29,28,2,41,38],[1,14,27,28,2,9,10],\n",
    "[39,38,37,36,34,33,32],[20,18,16,51,14,15,35],[6,4,2,1,3,19,52],\n",
    "[13,12,11,37,36,22,2],[28,43,42,5,38,52,27],[13,14,28,4,52,3,38],\n",
    "[52,26,13,51,9,8,37],[1,14,2,27,44,26,12],[1,14,27,3,2],\n",
    "[52,26,8,51,25,7,24],[7,20,2,9,47,38,12],[1,14,3,41,28],\n",
    "[52,39,51,36,37],[1,51,39,14,50,28,29],[1,14,42,4,2],\n",
    "[52,38,10,24,3,4,8],[38,37,35,8,7,16,1],[19,4,2,3,1]]\n",
    "\n",
    "Best_Hands = [hand_ranking(x) for x in Test_Units]\n"
   ]
  },
  {
   "cell_type": "code",
   "execution_count": 18,
   "id": "a8a53916",
   "metadata": {},
   "outputs": [
    {
     "name": "stdout",
     "output_type": "stream",
     "text": [
      "\n",
      "#  Description                                        Hand Score      Score Diff \n",
      "\n",
      "1  Spade Royal Flush                                   5,954,252               0\n",
      "2  Heart Royal Flush                                   5,954,252               0\n",
      "3  Diamond Royal Flush                                 5,954,252               0\n",
      "4  Spade Straight Flush: King Thru Nine                5,375,057         579,195\n",
      "5  Heart Straight Flush: Seven Thru Three              5,126,831         248,226\n",
      "6  Diamond Ace-Low Straight Flush                      5,044,089          82,742\n",
      "7  4 of a kind: Aces with King                         4,881,785         162,304\n",
      "8  4 of a kind: Sixs with Eight                        4,550,820         330,965\n",
      "9  4 of a kind: Twos with Three                        4,385,335         165,485\n",
      "10 Full House: Aces over Kings                         4,343,947          41,388\n",
      "11 Full House: Threes over Twos                        3,888,866         455,081\n",
      "12 Full House: Twos over Threes                        3,847,525          41,341\n",
      "13 Heart Flush : Ace, King, Queen, Jack, Nine          3,802,955          44,570\n",
      "14 Club Flush : Eight, Six, Four, Three, Two           3,551,564         251,391\n",
      "15 Diamond Flush : Seven, Five, Four, Three, Two       3,510,404          41,160\n",
      "16 Straight: Ace thru Ten                              3,265,132         245,272\n",
      "17 Straight: Six thru Two                              2,934,164         330,968\n",
      "18 Straight: Ace thru Five                             2,892,793          41,371\n",
      "19 3 of a kind: Aces with King and Queen               2,730,474         162,319\n",
      "20 3 of a kind: Twos with Ace and King                 2,234,217         496,257\n",
      "21 3 of a kind: Twos with Four and Three               2,234,067             150\n",
      "22 2 Pair: Aces over Kings with a Queen                2,192,454          41,613\n",
      "23 2 Pair: Kings over Eights with a Ten                2,150,242          42,212\n",
      "24 2 Pair: Threes over Twos with a Four                1,737,376         412,866\n",
      "25 1 pair: Aces with King and Queen and Jack           1,654,615          82,761\n",
      "26 1 pair: Twos with Ace and King and Queen            1,160,906         493,709\n",
      "27 1 pair: Twos with Five and Four and Three           1,159,007           1,899\n",
      "28 No Pair: Ace, King, Queen, Jack, Nine               1,113,835          45,172\n",
      "29 No Pair: King, Queen, Ten, Nine, Eight              1,072,254          41,581\n",
      "30 No Pair: Seven, Five, Four, Three, Two                821,284         250,970\n"
     ]
    }
   ],
   "source": [
    "# Loop thru the test units, displaing hand description, and the differences.\n",
    "# The score differences should be postive, except for the royal flushes.\n",
    "print(\"\\n# \",\"Description\".ljust(45),\"Hand Score\".rjust(15),\"Score Diff\".rjust(15),\"\\n\")\n",
    "for i in range(len(Best_Hands)):\n",
    "    if i == 0:\n",
    "        diff = 0\n",
    "    else:\n",
    "        diff = Best_Hands[i-1].score- Best_Hands[i].score\n",
    "    print(str((i+1)).ljust(2),Best_Hands[i].description.ljust(45),\n",
    "          '{:,}'.format(Best_Hands[i].score).rjust(15),\n",
    "          '{:,}'.format(diff).rjust(15))"
   ]
  },
  {
   "cell_type": "code",
   "execution_count": 19,
   "id": "98b2d3bc",
   "metadata": {},
   "outputs": [
    {
     "name": "stdout",
     "output_type": "stream",
     "text": [
      "Python version:\n",
      "3.9.7 (default, Sep 16 2021, 08:50:36) \n",
      "[Clang 10.0.0 ]\n"
     ]
    }
   ],
   "source": [
    "print(\"Python version:\")\n",
    "print(sys.version)"
   ]
  }
 ],
 "metadata": {
  "kernelspec": {
   "display_name": "Python 3 (ipykernel)",
   "language": "python",
   "name": "python3"
  },
  "language_info": {
   "codemirror_mode": {
    "name": "ipython",
    "version": 3
   },
   "file_extension": ".py",
   "mimetype": "text/x-python",
   "name": "python",
   "nbconvert_exporter": "python",
   "pygments_lexer": "ipython3",
   "version": "3.9.7"
  }
 },
 "nbformat": 4,
 "nbformat_minor": 5
}
